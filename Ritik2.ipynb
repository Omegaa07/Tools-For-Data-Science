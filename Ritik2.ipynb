{
  "cells": [
    {
      "cell_type": "markdown",
      "metadata": {},
      "source": [
        "# Data Science Tools and Ecosystem\n",
        "\n",
        "##  In this notebook, Data Science Tools and Ecosystem are summarized.\n",
        "\n",
        "## Some of the popular languages that Data Scientists use are:\n",
        "<ol>\n",
        "    <li>R Programming.</li>\n",
        "   <li>Python.</li>\n",
        "  <li>SQL.</li>\n",
        "</ol>\n",
        "\n",
        "\n",
        "## Some of the commonly used libraries used by Data Scientists include:\n",
        "<ol>\n",
        "    <li>Pandas.</li>\n",
        "   <li>NumPy.</li>\n",
        "  <li>SciPy.</li>\n",
        "    <li>TensorFlow.</li>\n",
        "</ol>\n",
        "\n",
        "\n",
        "## Data Science Tools:\n",
        "- Talend\n",
        "- IBM Datacap\n",
        "- Mozenda\n",
        "\n",
        "\n",
        "### Below are a few examples of evaluating arithmetic expressions in Python:"
      ]
    },
    {
      "cell_type": "code",
      "execution_count": null,
      "metadata": {},
      "outputs": [],
      "source": [
        "print((3*4)+5)"
      ]
    },
    {
      "cell_type": "markdown",
      "metadata": {},
      "source": [
        "## This will convert  200 minutes to hours:"
      ]
    },
    {
      "cell_type": "code",
      "execution_count": null,
      "metadata": {},
      "outputs": [],
      "source": [
        "print(200/60)"
      ]
    },
    {
      "cell_type": "markdown",
      "metadata": {},
      "source": [
        "<b>Objectives of Notebook: </b>\n",
        "<ul>\n",
        "    <li>Data cleaning.</li>\n",
        "   <li> Numerical simulation.</li>\n",
        "  <li>Data visualization.</li>\n",
        "</ul>\n",
        "\n",
        "## Author:\n",
        "- Ritik Tyagi"
      ]
    }
  ],
  "metadata": {
    "kernelspec": {
      "display_name": "Python 3",
      "language": "python",
      "name": "python3"
    },
    "language_info": {
      "codemirror_mode": {
        "name": "python",
        "version": 3
      },
      "file_extension": ".py",
      "mimetype": "text/x-python",
      "name": "python",
      "nbconvert_exporter": "python",
      "pygments_lexer": "ipython3",
      "version": "3.11.2"
    }
  },
  "nbformat": 4,
  "nbformat_minor": 4
}
