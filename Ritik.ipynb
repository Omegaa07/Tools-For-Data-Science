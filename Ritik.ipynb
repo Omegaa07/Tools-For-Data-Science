{
  "metadata": {
    "kernelspec": {
      "name": "python",
      "display_name": "Python (Pyodide)",
      "language": "python"
    },
    "language_info": {
      "codemirror_mode": {
        "name": "python",
        "version": 3
      },
      "file_extension": ".py",
      "mimetype": "text/x-python",
      "name": "python",
      "nbconvert_exporter": "python",
      "pygments_lexer": "ipython3",
      "version": "3.8"
    }
  },
  "nbformat_minor": 4,
  "nbformat": 4,
  "cells": [
    {
      "cell_type": "markdown",
      "source": "#### My Jupyter Notebook on IBM Watson Studio",
      "metadata": {}
    },
    {
      "cell_type": "markdown",
      "source": "<blockquote>Ritik</blockquote>\nMy desired occupation 'Data Scientist'",
      "metadata": {}
    },
    {
      "cell_type": "markdown",
      "source": "<i>I am intrested in data-science due to curosity, I want to find hiddent stories behind data which stay unheard </i>",
      "metadata": {}
    },
    {
      "cell_type": "markdown",
      "source": "### My code below will show beautiful addtion of two spicy numbers",
      "metadata": {}
    },
    {
      "cell_type": "code",
      "source": "print(1+2+3+4+5+6+7+8+9)",
      "metadata": {
        "trusted": true
      },
      "execution_count": 1,
      "outputs": [
        {
          "name": "stdout",
          "text": "45\n",
          "output_type": "stream"
        }
      ]
    },
    {
      "cell_type": "markdown",
      "source": "--- This was really\n<ol>\n<li>Easy</li>\n<li>Clear</li>\n<li>Simple</li>\n<li>Fun</li>\n</ol>\n",
      "metadata": {}
    },
    {
      "cell_type": "code",
      "source": "",
      "metadata": {},
      "execution_count": null,
      "outputs": []
    }
  ]
}